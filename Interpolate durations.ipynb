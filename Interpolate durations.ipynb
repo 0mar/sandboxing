{
 "cells": [
  {
   "cell_type": "code",
   "execution_count": null,
   "metadata": {},
   "outputs": [],
   "source": [
    "import pandas as pd\n",
    "import numpy as np\n",
    "import matplotlib.pyplot as plt\n",
    "import seaborn as sns; sns.set()\n",
    "\n",
    "\n",
    "df_data = pd.read_pickle('small_set.pkl')"
   ]
  },
  {
   "cell_type": "code",
   "execution_count": null,
   "metadata": {
    "scrolled": false
   },
   "outputs": [],
   "source": [
    "%matplotlib inline \n",
    "\n",
    "#Keep measurement locations that were active by removing NaNs\n",
    "#And sort to group measurement locations and order by timestamp\n",
    "data = df_data[np.isfinite(df_data['duration'])].sort_values(by=['id','timestamp'])\n",
    "\n",
    "#Linear interpolate for durations that are -1\n",
    "# fp = duration that are not -1\n",
    "# xp = position of those durations in the list\n",
    "# positions in the range that are not in xp will get interpolated by the function np.interp\n",
    "\n",
    "fp = data[(data.duration > 0)].duration.values\n",
    "xp = [i for i,x in enumerate(data.duration) if x > 0]\n",
    "inter = np.interp(range(0,data.duration.size),np.transpose(xp),fp)\n",
    "\n",
    "pd.options.mode.chained_assignment = None  # default='warn'\n",
    "data['duration_interpolation'] = inter\n",
    "\n",
    "#Show the interpolation for one of the measurement locations\n",
    "#X = range(data[(data.id == 'RWS01_MONIBAS_0581hrr0137ra0')].duration.size)\n",
    "#plt.figure(figsize=(18,10))\n",
    "#plt.plot(X, data[(data.id == 'RWS01_MONIBAS_0581hrr0137ra0')].duration)\n",
    "#plt.plot(X, data[(data.id == 'RWS01_MONIBAS_0581hrr0137ra0')].duration_interpolation)\n",
    "#plt.show()\n",
    "\n",
    "#calculate the median of the durations to get the duration during normal hours\n",
    "df_median = data.groupby(['id']).median()[['duration_interpolation']]\n",
    "df_median.columns = ['duration_interpolation_median']\n",
    "df = pd.merge(data, df_median, right_index=True, left_on='id')\n",
    "\n",
    "#calculate the deviation compared to the median\n",
    "df['duration_deviation'] = df.duration_interpolation - df.duration_interpolation_median\n",
    "\n",
    "#EXAMPLE select a subset of the locations which are in a row\n",
    "df_filtered = df[df['id'].isin(['RWS01_MONIBAS_0581hrr0192ra0','RWS01_MONIBAS_0581hrr0195ra0','RWS01_MONIBAS_0581hrr0207ra0','RWS01_MONIBAS_0581hrr0215ra0','RWS01_MONIBAS_0581hrr0221ra0','RWS01_MONIBAS_0581hrr0226ra0','RWS01_MONIBAS_0581hrr0233ra0','RWS01_MONIBAS_0581hrr0239ra0','RWS01_MONIBAS_0581hrr0244ra0','RWS01_MONIBAS_0581hrr0251ra0','RWS01_MONIBAS_0581hrr0257ra0','RWS01_MONIBAS_0581hrr0263ra0','RWS01_MONIBAS_0581hrr0269ra0','RWS01_MONIBAS_0581hrr0275ra0','RWS01_MONIBAS_0581hrr0281ra0','RWS01_MONIBAS_0581hrr0287ra0','RWS01_MONIBAS_0581hrr0293ra0','RWS01_MONIBAS_0581hrr0298ra0','RWS01_MONIBAS_0581hrr0309ra0','RWS01_MONIBAS_0581hrr0315ra0','RWS01_MONIBAS_0581hrr0320ra0','RWS01_MONIBAS_0581hrr0326ra0','RWS01_MONIBAS_0581hrr0332ra0','RWS01_MONIBAS_0581hrr0337ra0','RWS01_MONIBAS_0581hrr0342ra0','RWS01_MONIBAS_0581hrr0346ra0','RWS01_MONIBAS_0581hrr0352ra0','RWS01_MONIBAS_0581hrr0356ra0','RWS01_MONIBAS_0581hrr0361ra0','RWS01_MONIBAS_0581hrr0364ra0','RWS01_MONIBAS_0581hrr0369ra0','RWS01_MONIBAS_0581hrr0376ra0','RWS01_MONIBAS_0581hrr0383ra0','RWS01_MONIBAS_0581hrr0388ra0','RWS01_MONIBAS_0581hrr0394ra0'])]\n",
    "\n",
    "#Or, select all locations\n",
    "#df_filtered = df\n",
    "\n",
    "df_pivot = df_filtered.pivot(index='timestamp', columns='id', values='duration_deviation').clip(-60, 60)\n",
    "\n",
    "fig, ax = plt.subplots(figsize=(25,100)) \n",
    "ax = sns.heatmap(df_pivot, center=0, xticklabels=False, yticklabels=False, cbar=False, cmap=\"YlGnBu\")\n",
    "\n",
    "#sns.plt.show()"
   ]
  },
  {
   "cell_type": "code",
   "execution_count": null,
   "metadata": {
    "scrolled": false
   },
   "outputs": [],
   "source": [
    "df_filtered"
   ]
  },
  {
   "cell_type": "code",
   "execution_count": null,
   "metadata": {},
   "outputs": [],
   "source": []
  }
 ],
 "metadata": {
  "kernelspec": {
   "display_name": "Python 3",
   "language": "python",
   "name": "python3"
  },
  "language_info": {
   "codemirror_mode": {
    "name": "ipython",
    "version": 3
   },
   "file_extension": ".py",
   "mimetype": "text/x-python",
   "name": "python",
   "nbconvert_exporter": "python",
   "pygments_lexer": "ipython3",
   "version": "3.6.3"
  }
 },
 "nbformat": 4,
 "nbformat_minor": 2
}
